{
 "cells": [
  {
   "cell_type": "markdown",
   "id": "b7abba00",
   "metadata": {},
   "source": [
    "# Gerando Orçamento em PDF usando Python"
   ]
  },
  {
   "cell_type": "markdown",
   "id": "90a323fd",
   "metadata": {},
   "source": [
    "## Entrada de Dados"
   ]
  },
  {
   "cell_type": "code",
   "execution_count": 1,
   "id": "35698938",
   "metadata": {},
   "outputs": [
    {
     "name": "stdout",
     "output_type": "stream",
     "text": [
      "Digite a descrição do projeto: Reforma do Escritório\n",
      "Digite o total de horas estimada: 144\n",
      "Digite o valor da hora trabalhada: 12\n",
      "Digite o prazo estimado: 2 meses\n"
     ]
    }
   ],
   "source": [
    "projeto = input(\"Digite a descrição do projeto: \")\n",
    "horas_estimadas = input(\"Digite o total de horas estimada: \")\n",
    "valor_hora = input(\"Digite o valor da hora trabalhada: \")\n",
    "prazo = input(\"Digite o prazo estimado: \")"
   ]
  },
  {
   "cell_type": "markdown",
   "id": "22bbb70f",
   "metadata": {},
   "source": [
    "## Calculando Valor Total"
   ]
  },
  {
   "cell_type": "code",
   "execution_count": 2,
   "id": "4dd2f94c",
   "metadata": {},
   "outputs": [
    {
     "data": {
      "text/plain": [
       "1728"
      ]
     },
     "execution_count": 2,
     "metadata": {},
     "output_type": "execute_result"
    }
   ],
   "source": [
    "valor_total = int(horas_estimadas) * int(valor_hora)\n",
    "valor_total"
   ]
  },
  {
   "cell_type": "markdown",
   "id": "27f70fba",
   "metadata": {},
   "source": [
    "## Gerando PDF"
   ]
  },
  {
   "cell_type": "code",
   "execution_count": 3,
   "id": "30226337",
   "metadata": {},
   "outputs": [
    {
     "name": "stdout",
     "output_type": "stream",
     "text": [
      "Requirement already satisfied: fpdf in c:\\users\\user\\anaconda3\\lib\\site-packages (1.7.2)\n"
     ]
    }
   ],
   "source": [
    "!pip install fpdf"
   ]
  },
  {
   "cell_type": "code",
   "execution_count": 4,
   "id": "45a8c3b4",
   "metadata": {},
   "outputs": [],
   "source": [
    "from fpdf import FPDF"
   ]
  },
  {
   "cell_type": "code",
   "execution_count": 5,
   "id": "75cd549e",
   "metadata": {},
   "outputs": [
    {
     "name": "stdout",
     "output_type": "stream",
     "text": [
      "Orçamento gerado com sucesso\n"
     ]
    }
   ],
   "source": [
    "pdf = FPDF()\n",
    "\n",
    "pdf.add_page()\n",
    "pdf.set_font(\"Arial\")\n",
    "\n",
    "pdf.image('template.png', x=0, y=0)\n",
    "pdf.text(115, 145, projeto)\n",
    "pdf.text(115, 160, horas_estimadas)\n",
    "pdf.text(115, 175, valor_hora)\n",
    "pdf.text(115, 190, prazo)\n",
    "pdf.text(115, 205, str(valor_total))\n",
    "\n",
    "pdf.output(\"Orçamento.pdf\")\n",
    "print(\"Orçamento gerado com sucesso\")"
   ]
  },
  {
   "cell_type": "markdown",
   "id": "45585e17",
   "metadata": {},
   "source": [
    "Projeto realizado através das aulas da Empowerdata na Semana do Python na Prática."
   ]
  }
 ],
 "metadata": {
  "kernelspec": {
   "display_name": "Python 3 (ipykernel)",
   "language": "python",
   "name": "python3"
  },
  "language_info": {
   "codemirror_mode": {
    "name": "ipython",
    "version": 3
   },
   "file_extension": ".py",
   "mimetype": "text/x-python",
   "name": "python",
   "nbconvert_exporter": "python",
   "pygments_lexer": "ipython3",
   "version": "3.9.12"
  }
 },
 "nbformat": 4,
 "nbformat_minor": 5
}
